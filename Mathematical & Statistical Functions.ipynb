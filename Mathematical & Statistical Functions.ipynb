{
 "cells": [
  {
   "cell_type": "code",
   "execution_count": 1,
   "id": "08ed4455-da34-494d-82b9-3e2915e9b3f0",
   "metadata": {},
   "outputs": [
    {
     "name": "stdout",
     "output_type": "stream",
     "text": [
      "[2. 4. 6. 7.]\n"
     ]
    }
   ],
   "source": [
    "# Find the square root of all elements.\n",
    "# arr = np.array([4, 16, 36, 49])\n",
    "import numpy as np\n",
    "arr = np.array([4, 16, 36, 49])\n",
    "print(np.sqrt(arr))"
   ]
  },
  {
   "cell_type": "code",
   "execution_count": 2,
   "id": "7db831cd-ddbf-4c7f-a0e3-2326fec86e0a",
   "metadata": {},
   "outputs": [
    {
     "name": "stdout",
     "output_type": "stream",
     "text": [
      "[1.         2.71828183 7.3890561 ]\n"
     ]
    }
   ],
   "source": [
    "# Calculate the exponential (e^x) of each element.\n",
    "# arr = np.array([0, 1, 2])\n",
    "import numpy as np\n",
    "arr = np.array([0, 1, 2])\n",
    "print(np.exp(arr))"
   ]
  },
  {
   "cell_type": "code",
   "execution_count": 3,
   "id": "a26306b0-95d6-4aba-af3c-d7f12f5c5262",
   "metadata": {},
   "outputs": [
    {
     "name": "stdout",
     "output_type": "stream",
     "text": [
      "[0. 1. 2.]\n"
     ]
    }
   ],
   "source": [
    "# Compute the natural log of each element.\n",
    "# arr = np.array([1, np.e, np.e**2])\n",
    "import numpy as np\n",
    "arr = np.array([1, np.e, np.e**2])\n",
    "print(np.log(arr))"
   ]
  },
  {
   "cell_type": "code",
   "execution_count": 4,
   "id": "e77dccb1-38f0-4a15-b339-582d96a4546b",
   "metadata": {},
   "outputs": [
    {
     "name": "stdout",
     "output_type": "stream",
     "text": [
      "[0.0000000e+00 1.0000000e+00 1.2246468e-16]\n"
     ]
    }
   ],
   "source": [
    "# Find the sine of each angle in the array.\n",
    "# angles = np.array([0, np.pi/2, np.pi])\n",
    "import numpy as np\n",
    "angles = np.array([0, np.pi/2, np.pi])\n",
    "print(np.sin(angles))"
   ]
  },
  {
   "cell_type": "code",
   "execution_count": 5,
   "id": "a8d7b483-f2ea-456c-b478-cd59bce15511",
   "metadata": {},
   "outputs": [
    {
     "name": "stdout",
     "output_type": "stream",
     "text": [
      "['Low' 'High' 'Low' 'High' 'Low']\n"
     ]
    }
   ],
   "source": [
    "# Label each value as \"High\" if greater than 50, otherwise \"Low\".\n",
    "# data = np.array([45, 51, 39, 62, 25])\n",
    "import numpy as np\n",
    "data = np.array([45, 51, 39, 62, 25])\n",
    "result = np.where(data > 50, \"High\", \"Low\")\n",
    "print(result)"
   ]
  },
  {
   "cell_type": "code",
   "execution_count": 6,
   "id": "ac6e2703-4177-4dbe-86c0-47406e5f029e",
   "metadata": {},
   "outputs": [
    {
     "name": "stdout",
     "output_type": "stream",
     "text": [
      "[1 2 3 4]\n"
     ]
    }
   ],
   "source": [
    "# Return only the unique values from the array.\n",
    "# arr = np.array([1, 2, 2, 3, 3, 3, 4])\n",
    "import numpy as np\n",
    "arr = np.array([1, 2, 2, 3, 3, 3, 4])\n",
    "print(np.unique(arr))"
   ]
  },
  {
   "cell_type": "code",
   "execution_count": 7,
   "id": "365870c1-3d3c-4a83-9039-c5424e6dc217",
   "metadata": {},
   "outputs": [
    {
     "name": "stdout",
     "output_type": "stream",
     "text": [
      "[1 3 5 8]\n"
     ]
    }
   ],
   "source": [
    "# Sort this 1D array.\n",
    "# arr = np.array([8, 3, 1, 5])\n",
    "import numpy as np\n",
    "arr = np.array([8, 3, 1, 5])\n",
    "print(np.sort(arr))"
   ]
  },
  {
   "cell_type": "code",
   "execution_count": 8,
   "id": "cc407ec4-160d-44fc-b273-319c22c3fb51",
   "metadata": {},
   "outputs": [
    {
     "name": "stdout",
     "output_type": "stream",
     "text": [
      "[[1 2 3]\n",
      " [7 8 9]]\n"
     ]
    }
   ],
   "source": [
    "# Sort each row of the following 2D array.\n",
    "# arr = np.array([[3, 1, 2], [9, 7, 8]])\n",
    "import numpy as np\n",
    "arr = np.array([[3, 1, 2], [9, 7, 8]])\n",
    "print(np.sort(arr))"
   ]
  },
  {
   "cell_type": "code",
   "execution_count": 9,
   "id": "840018b7-3e0b-4761-a664-31e99d189fe3",
   "metadata": {},
   "outputs": [
    {
     "name": "stdout",
     "output_type": "stream",
     "text": [
      "[1.000000e+00 5.000000e-01 6.123234e-17]\n"
     ]
    }
   ],
   "source": [
    " # Find the cosine values of the given angles.\n",
    "# angles = np.array([0, np.pi/3, np.pi/2])\n",
    "import numpy as np\n",
    "angles = np.array([0, np.pi/3, np.pi/2])\n",
    "print(np.cos(angles))"
   ]
  },
  {
   "cell_type": "code",
   "execution_count": 10,
   "id": "0afa0c21-9858-42a2-8fa9-6b008bb2f4ce",
   "metadata": {},
   "outputs": [
    {
     "name": "stdout",
     "output_type": "stream",
     "text": [
      "['Div3' 'Div3' 'Div3' 'NotDiv3' 'NotDiv3' 'Div3']\n"
     ]
    }
   ],
   "source": [
    "# Label all elements divisible by 3 as \"Div3\", otherwise \"NotDiv3\".\n",
    "# arr = np.array([9, 12, 15, 22, 25, 30])\n",
    "import numpy as np\n",
    "arr = np.array([9, 12, 15, 22, 25, 30])\n",
    "div_by_3 = np.where(arr % 3 == 0, \"Div3\", \"NotDiv3\")\n",
    "print(div_by_3)"
   ]
  },
  {
   "cell_type": "code",
   "execution_count": 11,
   "id": "47c1614d-cfd4-4f32-b8f6-982ae86c786f",
   "metadata": {},
   "outputs": [
    {
     "name": "stdout",
     "output_type": "stream",
     "text": [
      "[[ 5  9 11]\n",
      " [ 3  6  8]]\n"
     ]
    }
   ],
   "source": [
    "# Sort each row of the matrix.\n",
    "# matrix = np.array([[11, 5, 9],\n",
    "#                    [3, 8, 6]])\n",
    "import numpy as np\n",
    "matrix = np.array([[11, 5, 9],\n",
    "                   [3, 8, 6]])\n",
    "print(np.sort(matrix))"
   ]
  },
  {
   "cell_type": "code",
   "execution_count": 12,
   "id": "cea94781-23ad-4dac-9b0d-f8369319f562",
   "metadata": {},
   "outputs": [
    {
     "name": "stdout",
     "output_type": "stream",
     "text": [
      "[ 2.71828183  7.3890561  20.08553692 54.59815003]\n",
      "[1. 2. 3. 4.]\n"
     ]
    }
   ],
   "source": [
    "# Compute exponential of each element, then take log of the result.\n",
    "# arr = np.array([1, 2, 3, 4])\n",
    "import numpy as np\n",
    "arr = np.array([1, 2, 3, 4])\n",
    "result = np.exp(arr)\n",
    "print(result)\n",
    "log = np.log(result)\n",
    "print(log)"
   ]
  },
  {
   "cell_type": "code",
   "execution_count": 13,
   "id": "d52c85c1-aa46-4b1f-a16d-52866b80cc7a",
   "metadata": {},
   "outputs": [
    {
     "name": "stdout",
     "output_type": "stream",
     "text": [
      "[1 2 3]\n",
      "[2 1 3]\n"
     ]
    }
   ],
   "source": [
    "# Return unique values and their counts.\n",
    "# arr = np.array([1, 1, 2, 3, 3, 3])\n",
    "import numpy as np\n",
    "arr = np.array([1, 1, 2, 3, 3, 3])\n",
    "unq, counts = np.unique(arr, return_counts = True)\n",
    "print(unq)\n",
    "print(counts)"
   ]
  },
  {
   "cell_type": "code",
   "execution_count": 14,
   "id": "a921725b-2081-428c-b20c-82e8a79519ee",
   "metadata": {},
   "outputs": [
    {
     "name": "stdout",
     "output_type": "stream",
     "text": [
      "[2 4 6 8]\n",
      "[2 3 1 1]\n"
     ]
    }
   ],
   "source": [
    "# Find unique elements and how many times each appeared.\n",
    "# arr = np.array([2, 4, 4, 4, 6, 2, 8])\n",
    "import numpy as np\n",
    "arr = np.array([2, 4, 4, 4, 6, 2, 8])\n",
    "unq, counts = np.unique(arr, return_counts = True)\n",
    "print(unq)\n",
    "print(counts)"
   ]
  },
  {
   "cell_type": "code",
   "execution_count": 15,
   "id": "e86e9e15-0f32-4f5b-86a3-595f862e0ffb",
   "metadata": {},
   "outputs": [
    {
     "name": "stdout",
     "output_type": "stream",
     "text": [
      "[1 0 3 0 5 0]\n"
     ]
    }
   ],
   "source": [
    "# Replace all even numbers in the array with 0.\n",
    "# arr = np.array([1, 2, 3, 4, 5, 6])\n",
    "import numpy as np\n",
    "arr = np.array([1, 2, 3, 4, 5, 6])\n",
    "result = np.where(arr % 2 == 0, 0, arr)\n",
    "print(result)"
   ]
  },
  {
   "cell_type": "code",
   "execution_count": 16,
   "id": "b575a716-21e5-43ba-9bf7-59e00002edae",
   "metadata": {},
   "outputs": [
    {
     "name": "stdout",
     "output_type": "stream",
     "text": [
      "[ True  True  True]\n"
     ]
    }
   ],
   "source": [
    "# Check sin²(x) + cos²(x) ≈ 1 for each angle.\n",
    "# x = np.array([0, np.pi/4, np.pi/2])\n",
    "import numpy as np\n",
    "x = np.array([0, np.pi/4, np.pi/2])\n",
    "result = np.sin(x)**2 + np.cos(x)**2\n",
    "check = np.isclose(result, 1.0)\n",
    "print(check)"
   ]
  }
 ],
 "metadata": {
  "kernelspec": {
   "display_name": "Python 3 (ipykernel)",
   "language": "python",
   "name": "python3"
  },
  "language_info": {
   "codemirror_mode": {
    "name": "ipython",
    "version": 3
   },
   "file_extension": ".py",
   "mimetype": "text/x-python",
   "name": "python",
   "nbconvert_exporter": "python",
   "pygments_lexer": "ipython3",
   "version": "3.12.7"
  }
 },
 "nbformat": 4,
 "nbformat_minor": 5
}
